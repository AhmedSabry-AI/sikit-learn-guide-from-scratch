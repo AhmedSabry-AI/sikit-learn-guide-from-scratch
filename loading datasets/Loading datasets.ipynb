{
 "cells": [
  {
   "cell_type": "raw",
   "id": "9182bda2-29c0-4396-b91c-e3796b455c28",
   "metadata": {},
   "source": [
    "علي عدد من البيانات المخزنة فيها مثل sklearn تحتوي مكتبه    \n",
    "\n",
    "1.1.1\tIris data\n",
    "1.1.2\tBoston data\n",
    "1.1.3\tWine data\n",
    "1.1.4\tBreast cancer data\n",
    "1.1.5\tDiabetes data\n",
    "1.1.6\tSample Regression\n",
    "1.1.7\tSample Classification\n",
    "1.1.8\tSample images\n"
   ]
  },
  {
   "cell_type": "markdown",
   "id": "41fc2658-3910-417e-a583-3e7caa0ddca3",
   "metadata": {},
   "source": [
    "##  how to import dataset"
   ]
  },
  {
   "cell_type": "code",
   "execution_count": null,
   "id": "feedcd7b-9163-41e2-9ffc-8e6f13c8b0fb",
   "metadata": {},
   "outputs": [],
   "source": [
    "\n",
    "from sklearn.datasets import load_iris\n",
    "\n",
    "# from sklearn.datasets import load_boston\n",
    "# from sklearn.datasets import load_wine\n",
    "# from sklearn.datasets import load_breast_cancer\n",
    "# from sklearn.datasets import load_diabetes\n",
    "\n",
    "\n",
    "# load iris data\n",
    "Iris_Data = load_iris()\n",
    "\n",
    "#X Data\n",
    "X = Iris_Data.data\n",
    "print('X Data is \\n' , X[:10])\n",
    "print('X shape is ' , X.shape)\n",
    "print('X feature are \\n' , Iris_Data.feature_names)\n",
    "\n",
    "print(\"*\" * 100)\n",
    "\n",
    "#y Data\n",
    "y=Iris_Data.target\n",
    "print('y Data is \\n' , y[:10])\n",
    "print('y shape is ' , y.shape)\n",
    "print('y columns are \\n ' , Iris_Data.target_names)"
   ]
  }
 ],
 "metadata": {
  "kernelspec": {
   "display_name": "Python [conda env:base] *",
   "language": "python",
   "name": "conda-base-py"
  },
  "language_info": {
   "codemirror_mode": {
    "name": "ipython",
    "version": 3
   },
   "file_extension": ".py",
   "mimetype": "text/x-python",
   "name": "python",
   "nbconvert_exporter": "python",
   "pygments_lexer": "ipython3",
   "version": "3.11.5"
  }
 },
 "nbformat": 4,
 "nbformat_minor": 5
}
