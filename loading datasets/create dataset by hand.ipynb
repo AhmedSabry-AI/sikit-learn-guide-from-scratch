{
 "cells": [
  {
   "cell_type": "markdown",
   "id": "8954b081-5c73-4a1f-8a14-12e56b274446",
   "metadata": {},
   "source": [
    "## create data for regression task"
   ]
  },
  {
   "cell_type": "code",
   "execution_count": null,
   "id": "ab3f2fa9-b588-4911-95e4-6ca8f8b244bf",
   "metadata": {},
   "outputs": [],
   "source": [
    "from sklearn.datasets import make_regression\n",
    "X,y = make_regression(n_samples=100 , n_features=5 , shuffle=True)\n",
    "\n",
    "#X data\n",
    "print('X data is \\n ' , X[:10])\n",
    "print('X shape is \\n' , X.shape)\n",
    "\n",
    "print(\"*\" * 100)\n",
    "\n",
    "#y data\n",
    "print('Y data is \\n' , y[:10])\n",
    "print('Y shape is \\n ' , y.shape)\n"
   ]
  },
  {
   "cell_type": "markdown",
   "id": "d23ea0bc-1bc2-4270-bbf1-db0369558740",
   "metadata": {},
   "source": [
    "## create data for classification task"
   ]
  },
  {
   "cell_type": "code",
   "execution_count": null,
   "id": "398dd951-24e4-4c0d-9840-e31f775575e7",
   "metadata": {},
   "outputs": [],
   "source": [
    "from sklearn.datasets import make_classification\n",
    "X,y = make_classification(n_samples = 100 , n_features=5 , shuffle=True)\n",
    "\n",
    "#X data\n",
    "print('X data is \\n', X[:10])\n",
    "print('X shape is \\n' , X.shape)\n",
    "\n",
    "print(\"*\" * 100)\n",
    "\n",
    "#Y data\n",
    "print('y data is \\n' ,y[:10])\n",
    "print('y shape is \\n' , y.shape)"
   ]
  },
  {
   "cell_type": "markdown",
   "id": "b797f00b-7aba-402d-adc1-74e250b35890",
   "metadata": {},
   "source": [
    "## create data as image dataset"
   ]
  },
  {
   "cell_type": "code",
   "execution_count": null,
   "id": "6d611473-6362-4971-b10c-83b352b9598d",
   "metadata": {},
   "outputs": [],
   "source": [
    "from sklearn.datasets import load_sample_image\n",
    "\n",
    "china = load_sample_image('china.jpg')\n",
    "china.dtype\n",
    "china.shape\n",
    "\n",
    "flower = load_sample_image('flower.jpg')\n",
    "flower.dtype\n",
    "flower.shape\n",
    "\n",
    "import matplotlib.pyplot as plt\n",
    "plt.imshow(china)\n",
    "# plt.imshow(flower)\n",
    "plt.show()"
   ]
  }
 ],
 "metadata": {
  "kernelspec": {
   "display_name": "Python [conda env:base] *",
   "language": "python",
   "name": "conda-base-py"
  },
  "language_info": {
   "codemirror_mode": {
    "name": "ipython",
    "version": 3
   },
   "file_extension": ".py",
   "mimetype": "text/x-python",
   "name": "python",
   "nbconvert_exporter": "python",
   "pygments_lexer": "ipython3",
   "version": "3.11.5"
  }
 },
 "nbformat": 4,
 "nbformat_minor": 5
}
