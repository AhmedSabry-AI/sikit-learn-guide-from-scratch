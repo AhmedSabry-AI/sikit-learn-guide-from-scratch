{
 "cells": [
  {
   "cell_type": "markdown",
   "id": "da6f7a85-858d-4cb2-8fe4-35b8cb7a677c",
   "metadata": {},
   "source": [
    "## Installing Sikit-Learn "
   ]
  },
  {
   "cell_type": "code",
   "execution_count": null,
   "id": "e38668bf-e843-4670-b79e-b784a0a36e92",
   "metadata": {},
   "outputs": [],
   "source": [
    " !pip install scikit-learn\n"
   ]
  },
  {
   "cell_type": "markdown",
   "id": "ce6fb1a4-a77f-40f6-9ef4-4a9627341f76",
   "metadata": {},
   "source": [
    "##### or conda"
   ]
  },
  {
   "cell_type": "code",
   "execution_count": null,
   "id": "31cc86b8-0008-4276-9810-cf3609878954",
   "metadata": {},
   "outputs": [],
   "source": [
    " conda install scikit-learn\n"
   ]
  },
  {
   "cell_type": "markdown",
   "id": "1c4894bf-064a-4752-838e-5bf5a6b21071",
   "metadata": {},
   "source": [
    "## CHeck installion"
   ]
  },
  {
   "cell_type": "code",
   "execution_count": null,
   "id": "f3595726-076b-4989-bf16-0674d24122ca",
   "metadata": {},
   "outputs": [],
   "source": [
    "\n",
    "import sklearn\n",
    "print(\"Scikit-learn version:\", sklearn.__version__)"
   ]
  },
  {
   "cell_type": "markdown",
   "id": "4201d6ff-55ee-46ac-9434-c210fd4070d1",
   "metadata": {},
   "source": [
    "## To upgrade scikit-learn:\n"
   ]
  },
  {
   "cell_type": "code",
   "execution_count": null,
   "id": "e61c91a7-9693-4946-b2ec-f07cca2502cd",
   "metadata": {},
   "outputs": [],
   "source": [
    " conda update scikit-learn\n",
    " "
   ]
  },
  {
   "cell_type": "markdown",
   "id": "a947e1ec-7391-4868-9f06-85d7089910df",
   "metadata": {},
   "source": [
    "## To uninstall scikit-learn:\n"
   ]
  },
  {
   "cell_type": "code",
   "execution_count": null,
   "id": "83a97a96-c1b3-4fb5-bd9e-223b30de7897",
   "metadata": {},
   "outputs": [],
   "source": [
    " conda remove scikit-learn"
   ]
  }
 ],
 "metadata": {
  "kernelspec": {
   "display_name": "Python [conda env:base] *",
   "language": "python",
   "name": "conda-base-py"
  },
  "language_info": {
   "codemirror_mode": {
    "name": "ipython",
    "version": 3
   },
   "file_extension": ".py",
   "mimetype": "text/x-python",
   "name": "python",
   "nbconvert_exporter": "python",
   "pygments_lexer": "ipython3",
   "version": "3.11.5"
  }
 },
 "nbformat": 4,
 "nbformat_minor": 5
}
