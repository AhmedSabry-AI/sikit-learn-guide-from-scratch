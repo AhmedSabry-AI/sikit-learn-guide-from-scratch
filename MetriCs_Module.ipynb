{
 "cells": [
  {
   "cell_type": "markdown",
   "metadata": {},
   "source": [
    "## Metrics module"
   ]
  },
  {
   "cell_type": "markdown",
   "metadata": {},
   "source": [
    "#### For regression"
   ]
  },
  {
   "cell_type": "markdown",
   "metadata": {},
   "source": [
    "##### 1- mean_absolte_error :- is a metric used to evaluate the accuracy of regression models \n",
    "#####                        - it calculate the average of the absolute residual in datasets\n",
    "\n",
    "##### 2- mean_squared_error :- is a metric used to evaluate the accuracy of regression models \n",
    "#####                        - it calculate the average of the squared in residual in datasets\n",
    "\n",
    "##### 3- root_mean_squared_error :- is a metric used to evaluate the accuracy of regression models \n",
    "#####                        - it calculate the squared root of mean squared error.\n",
    "\n",
    "##### 4- r2_score :- The R² score, or coefficient of determination, \n",
    "#####              - is a metric that measures how well a regression model explains the variance in the target variable. It ranges from 0 to 1"
   ]
  },
  {
   "cell_type": "code",
   "execution_count": 3,
   "metadata": {},
   "outputs": [
    {
     "name": "stdout",
     "output_type": "stream",
     "text": [
      "Mean Squared Error: 0.09333333333333334\n",
      "Mean Absolute Error: 0.2333333333333333\n",
      "R-squared Score: 0.968\n",
      "Root Mean Squared Error: 0.30550504633038933\n"
     ]
    }
   ],
   "source": [
    "from sklearn.metrics import mean_squared_error, mean_absolute_error, r2_score\n",
    "import numpy as np\n",
    "\n",
    "y_actual = [1, 2, 3, 4, 5, 6]\n",
    "y_predict = [1.5, 1.9, 3, 4.1, 5.2, 5.5] \n",
    "\n",
    "# Calculate errors\n",
    "mse = mean_squared_error(y_actual, y_predict)\n",
    "mae = mean_absolute_error(y_actual, y_predict)\n",
    "r2 = r2_score(y_actual, y_predict)\n",
    "\n",
    "# Calculate RMSE\n",
    "rmse = np.sqrt(mse)\n",
    "\n",
    "# Print results\n",
    "print(\"Mean Squared Error:\", mse)\n",
    "print(\"Mean Absolute Error:\", mae)\n",
    "print(\"R-squared Score:\", r2)\n",
    "print(\"Root Mean Squared Error:\", rmse)\n"
   ]
  },
  {
   "cell_type": "markdown",
   "metadata": {},
   "source": [
    "## For classification"
   ]
  },
  {
   "cell_type": "markdown",
   "metadata": {},
   "source": [
    "##### 1- confusion_metrics:- is a metric used to evaluate classification model.\n",
    "#####                       - It provides a summary of prediction results by showing the number of correctly and incorrectly classified instances for each class.\n",
    "#####                    - It is called that because it tells how much the model is confused between 2 classes.\n",
    "\n",
    "                    \n",
    "##### 2- accuracy     :- is a metric used to evaluate classification models. \n",
    "#####                 - It measures The ratio between the number of correctly predicted data and the total number of data points.\n",
    "\n",
    "\n",
    "##### 3- precision   :- is a metric used to evaluate classification model.\n",
    "#####                  -  It finds the proportion of correct positive predictions among the data points with a positive prediction.\n",
    "\n",
    "##### 4- Recall       :- is a metrics used to evaluate classification model.\n",
    "#####                  - It finds the proportion of correct positive predictions among the data points with a positive label.\n",
    "    \n",
    "##### 5- F1-Score    :- is a metric used to evaluate clasification model.\n",
    "#####                 - How to combine between the recall and precision in one metric? by way called 'harmonic mean'.\n",
    "\n",
    "##### 6- Sensitivity :- is a metric used to evaluate classification model.\n",
    "#####                 - (true positive rate): It finds the proportion of correct positive predictions among the data points with positive label. [Recall]\n",
    "\n",
    "##### 7- Specifity   :- is a metrics used to evaluate classification model.\n",
    "#####                 - (true negative rate): It finds the proportion of correct Negative predictions among the data points  with Negative label.\n",
    "\n",
    "##### 8 - ROC (Receiver Operating Characteristic) :- (ROC) curve is a graphical representation used to evaluate the performance of a binary classification model. \n",
    "#####                                       - It plots the True Positive Rate (TPR) against the False Positive Rate (FPR) at different classification thresholds.\n",
    "\n",
    "##### 9 - AUC (Area Under the Curve) :- (AUC) is a performance metric for classification models, specifically derived from the ROC (Receiver Operating Characteristic) curve. \n",
    "#####                                 - It quantifies how well a model distinguishes between positive and negative classes.\n",
    "\n"
   ]
  },
  {
   "cell_type": "markdown",
   "metadata": {},
   "source": [
    "## Confusion_matrix , Clasification_Report\n"
   ]
  },
  {
   "cell_type": "code",
   "execution_count": 6,
   "metadata": {},
   "outputs": [
    {
     "name": "stdout",
     "output_type": "stream",
     "text": [
      "\n",
      "Confusion Matrix:\n",
      " [[4 1]\n",
      " [1 4]]\n",
      "\n",
      "Classification Report:\n",
      "               precision    recall  f1-score   support\n",
      "\n",
      "           0       0.80      0.80      0.80         5\n",
      "           1       0.80      0.80      0.80         5\n",
      "\n",
      "    accuracy                           0.80        10\n",
      "   macro avg       0.80      0.80      0.80        10\n",
      "weighted avg       0.80      0.80      0.80        10\n",
      "\n"
     ]
    }
   ],
   "source": [
    "from sklearn.metrics import confusion_matrix, classification_report\n",
    "import warnings\n",
    "warnings.filterwarnings(\"ignore\")  # This will ignore all warnings\n",
    "\n",
    "\n",
    "y_actual = [1, 0, 1, 1, 0, 0, 1, 0, 1, 0]\n",
    "y_predict = [1, 0, 1, 0, 0, 1, 1, 0, 1, 0]\n",
    "\n",
    "# Classification metrics\n",
    "conf_matrix = confusion_matrix(y_actual, y_predict)\n",
    "class_report = classification_report(y_actual, y_predict)\n",
    "\n",
    "# Print classification results\n",
    "print(\"\\nConfusion Matrix:\\n\", conf_matrix)\n",
    "print(\"\\nClassification Report:\\n\", class_report)\n"
   ]
  },
  {
   "cell_type": "markdown",
   "metadata": {},
   "source": [
    "## Sensitivity , Specifity"
   ]
  },
  {
   "cell_type": "code",
   "execution_count": 8,
   "metadata": {},
   "outputs": [
    {
     "name": "stdout",
     "output_type": "stream",
     "text": [
      "Sensitivity (Recall / True Positive Rate): 0.80\n",
      "Specificity (True Negative Rate): 0.80\n"
     ]
    }
   ],
   "source": [
    "from sklearn.metrics import confusion_matrix\n",
    "\n",
    "y_actual = [1, 0, 1, 1, 0, 0, 1, 0, 1, 0]  \n",
    "y_predicted = [1, 0, 1, 0, 0, 1, 1, 0, 1, 0]\n",
    "\n",
    "tn, fp, fn, tp = confusion_matrix(y_actual, y_predicted).ravel()\n",
    "\n",
    "# Sensitivity (Recall or True Positive Rate)\n",
    "sensitivity = tp / (tp + fn)\n",
    "\n",
    "# Specificity (True Negative Rate)\n",
    "specificity = tn / (tn + fp)\n",
    "\n",
    "print(f\"Sensitivity (Recall / True Positive Rate): {sensitivity:.2f}\")\n",
    "print(f\"Specificity (True Negative Rate): {specificity:.2f}\")\n"
   ]
  },
  {
   "cell_type": "markdown",
   "metadata": {},
   "source": [
    "## ROC , AUC"
   ]
  },
  {
   "cell_type": "code",
   "execution_count": 12,
   "metadata": {},
   "outputs": [
    {
     "data": {
      "image/png": "[encoded data removed]",
      "text/plain": [
       "<Figure size 640x480 with 1 Axes>"
      ]
     },
     "metadata": {},
     "output_type": "display_data"
    }
   ],
   "source": [
    "from sklearn.metrics import roc_curve, auc\n",
    "import matplotlib.pyplot as plt\n",
    "\n",
    "y_actual = [1, 0, 1, 1, 0, 0, 1, 0, 1, 0]\n",
    "y_predict = [1, 0, 1, 0, 0, 1, 1, 0, 1, 0]\n",
    "\n",
    "# Compute ROC curve\n",
    "fpr, tpr, _ = roc_curve(y_actual, y_predict)\n",
    "roc_auc = auc(fpr, tpr)\n",
    "\n",
    "# Plot ROC curve\n",
    "plt.figure()\n",
    "plt.plot(fpr, tpr, color='blue', label=f'ROC curve (AUC = {roc_auc:.2f})')\n",
    "plt.plot([0, 1], [0, 1], color='red', linestyle='--') \n",
    "plt.xlabel('False Positive Rate')\n",
    "plt.ylabel('True Positive Rate')\n",
    "plt.title('Receiver Operating Characteristic (ROC) Curve')\n",
    "plt.legend(loc=\"lower right\")\n",
    "plt.show()\n"
   ]
  },
  {
   "cell_type": "code",
   "execution_count": null,
   "metadata": {},
   "outputs": [],
   "source": []
  }
 ],
 "metadata": {
  "kernelspec": {
   "display_name": "Python [conda env:base] *",
   "language": "python",
   "name": "conda-base-py"
  },
  "language_info": {
   "codemirror_mode": {
    "name": "ipython",
    "version": 3
   },
   "file_extension": ".py",
   "mimetype": "text/x-python",
   "name": "python",
   "nbconvert_exporter": "python",
   "pygments_lexer": "ipython3",
   "version": "3.11.5"
  }
 },
 "nbformat": 4,
 "nbformat_minor": 4
}
